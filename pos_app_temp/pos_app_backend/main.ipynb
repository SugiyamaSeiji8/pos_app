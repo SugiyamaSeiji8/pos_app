{
 "cells": [
  {
   "cell_type": "code",
   "execution_count": 2,
   "metadata": {},
   "outputs": [
    {
     "name": "stderr",
     "output_type": "stream",
     "text": [
      "'pip' �́A�����R�}���h�܂��͊O���R�}���h�A\n",
      "����\\�ȃv���O�����܂��̓o�b�` �t�@�C���Ƃ��ĔF������Ă��܂���B\n"
     ]
    }
   ],
   "source": [
    "!pip install nest_asyncio"
   ]
  },
  {
   "cell_type": "code",
   "execution_count": 18,
   "metadata": {},
   "outputs": [
    {
     "name": "stderr",
     "output_type": "stream",
     "text": [
      "INFO:     Started server process [22276]\n",
      "INFO:     Waiting for application startup.\n",
      "INFO:     Application startup complete.\n",
      "INFO:     Uvicorn running on http://localhost:8000 (Press CTRL+C to quit)\n"
     ]
    },
    {
     "name": "stdout",
     "output_type": "stream",
     "text": [
      "INFO:     ::1:58794 - \"GET / HTTP/1.1\" 200 OK\n",
      "INFO:     ::1:58795 - \"GET /docs HTTP/1.1\" 200 OK\n",
      "INFO:     ::1:58795 - \"GET /openapi.json HTTP/1.1\" 200 OK\n"
     ]
    },
    {
     "name": "stderr",
     "output_type": "stream",
     "text": [
      "c:\\Users\\sugiyamase\\AppData\\Local\\Programs\\Python\\Python312\\Lib\\site-packages\\fastapi\\openapi\\utils.py:246: UserWarning: Duplicate Operation ID get_product_api_product__code__get for function get_product\n",
      "  warnings.warn(message, stacklevel=1)\n",
      "c:\\Users\\sugiyamase\\AppData\\Local\\Programs\\Python\\Python312\\Lib\\site-packages\\fastapi\\openapi\\utils.py:246: UserWarning: Duplicate Operation ID purchase_api_purchase_post for function purchase\n",
      "  warnings.warn(message, stacklevel=1)\n"
     ]
    },
    {
     "name": "stdout",
     "output_type": "stream",
     "text": [
      "INFO:     127.0.0.1:58836 - \"GET /api/product/4901777300446 HTTP/1.1\" 200 OK\n",
      "INFO:     127.0.0.1:58836 - \"GET /api/product/4901777300446 HTTP/1.1\" 200 OK\n",
      "INFO:     127.0.0.1:58853 - \"GET /api/product/4901777300446 HTTP/1.1\" 200 OK\n",
      "INFO:     127.0.0.1:59433 - \"GET /api/product/4901777300446 HTTP/1.1\" 200 OK\n",
      "INFO:     127.0.0.1:59449 - \"GET /api/product/4901777300446 HTTP/1.1\" 200 OK\n",
      "INFO:     127.0.0.1:59460 - \"GET /api/product/4901111000003 HTTP/1.1\" 200 OK\n",
      "INFO:     127.0.0.1:59460 - \"POST /api/purchase HTTP/1.1\" 200 OK\n"
     ]
    },
    {
     "name": "stderr",
     "output_type": "stream",
     "text": [
      "INFO:     Shutting down\n",
      "INFO:     Waiting for application shutdown.\n",
      "INFO:     Application shutdown complete.\n",
      "INFO:     Finished server process [22276]\n"
     ]
    }
   ],
   "source": [
    "import nest_asyncio\n",
    "nest_asyncio.apply()\n",
    "\n",
    "import uvicorn\n",
    "uvicorn.run(app, host=\"localhost\", port=8000)"
   ]
  },
  {
   "cell_type": "code",
   "execution_count": 5,
   "metadata": {
    "vscode": {
     "languageId": "sql"
    }
   },
   "outputs": [
    {
     "name": "stdout",
     "output_type": "stream",
     "text": [
      "Requirement already satisfied: fastapi in c:\\users\\sugiyamase\\appdata\\local\\programs\\python\\python312\\lib\\site-packages (0.115.12)\n",
      "Requirement already satisfied: uvicorn in c:\\users\\sugiyamase\\appdata\\local\\programs\\python\\python312\\lib\\site-packages (0.34.2)\n",
      "Requirement already satisfied: pymysql in c:\\users\\sugiyamase\\appdata\\local\\programs\\python\\python312\\lib\\site-packages (1.1.1)\n",
      "Requirement already satisfied: starlette<0.47.0,>=0.40.0 in c:\\users\\sugiyamase\\appdata\\local\\programs\\python\\python312\\lib\\site-packages (from fastapi) (0.46.2)\n",
      "Requirement already satisfied: pydantic!=1.8,!=1.8.1,!=2.0.0,!=2.0.1,!=2.1.0,<3.0.0,>=1.7.4 in c:\\users\\sugiyamase\\appdata\\local\\programs\\python\\python312\\lib\\site-packages (from fastapi) (2.8.2)\n",
      "Requirement already satisfied: typing-extensions>=4.8.0 in c:\\users\\sugiyamase\\appdata\\local\\programs\\python\\python312\\lib\\site-packages (from fastapi) (4.12.2)\n",
      "Requirement already satisfied: click>=7.0 in c:\\users\\sugiyamase\\appdata\\local\\programs\\python\\python312\\lib\\site-packages (from uvicorn) (8.1.7)\n",
      "Requirement already satisfied: h11>=0.8 in c:\\users\\sugiyamase\\appdata\\local\\programs\\python\\python312\\lib\\site-packages (from uvicorn) (0.16.0)\n",
      "Requirement already satisfied: colorama in c:\\users\\sugiyamase\\appdata\\roaming\\python\\python312\\site-packages (from click>=7.0->uvicorn) (0.4.6)\n",
      "Requirement already satisfied: annotated-types>=0.4.0 in c:\\users\\sugiyamase\\appdata\\local\\programs\\python\\python312\\lib\\site-packages (from pydantic!=1.8,!=1.8.1,!=2.0.0,!=2.0.1,!=2.1.0,<3.0.0,>=1.7.4->fastapi) (0.7.0)\n",
      "Requirement already satisfied: pydantic-core==2.20.1 in c:\\users\\sugiyamase\\appdata\\local\\programs\\python\\python312\\lib\\site-packages (from pydantic!=1.8,!=1.8.1,!=2.0.0,!=2.0.1,!=2.1.0,<3.0.0,>=1.7.4->fastapi) (2.20.1)\n",
      "Requirement already satisfied: anyio<5,>=3.6.2 in c:\\users\\sugiyamase\\appdata\\local\\programs\\python\\python312\\lib\\site-packages (from starlette<0.47.0,>=0.40.0->fastapi) (4.9.0)\n",
      "Requirement already satisfied: idna>=2.8 in c:\\users\\sugiyamase\\appdata\\local\\programs\\python\\python312\\lib\\site-packages (from anyio<5,>=3.6.2->starlette<0.47.0,>=0.40.0->fastapi) (3.7)\n",
      "Requirement already satisfied: sniffio>=1.1 in c:\\users\\sugiyamase\\appdata\\local\\programs\\python\\python312\\lib\\site-packages (from anyio<5,>=3.6.2->starlette<0.47.0,>=0.40.0->fastapi) (1.3.1)\n",
      "Note: you may need to restart the kernel to use updated packages.\n"
     ]
    },
    {
     "name": "stderr",
     "output_type": "stream",
     "text": [
      "\n",
      "[notice] A new release of pip is available: 24.1.2 -> 25.1\n",
      "[notice] To update, run: python.exe -m pip install --upgrade pip\n"
     ]
    }
   ],
   "source": [
    "pip install fastapi uvicorn pymysql"
   ]
  },
  {
   "cell_type": "markdown",
   "metadata": {},
   "source": [
    "ライブラリのインポート"
   ]
  },
  {
   "cell_type": "code",
   "execution_count": 7,
   "metadata": {},
   "outputs": [],
   "source": [
    "from fastapi import FastAPI, HTTPException\n",
    "from fastapi.middleware.cors import CORSMiddleware\n",
    "from pydantic import BaseModel\n",
    "from typing import List, Optional\n",
    "import pymysql\n",
    "from datetime import datetime"
   ]
  },
  {
   "cell_type": "markdown",
   "metadata": {},
   "source": [
    "FastAPIアプリとCORSの設定"
   ]
  },
  {
   "cell_type": "code",
   "execution_count": 8,
   "metadata": {},
   "outputs": [],
   "source": [
    "app = FastAPI()\n",
    "\n",
    "# CORSの設定\n",
    "app.add_middleware(\n",
    "    CORSMiddleware,\n",
    "    allow_origins=[\"*\"],  # 本番環境では適切に制限すること\n",
    "    allow_credentials=True,\n",
    "    allow_methods=[\"*\"],\n",
    "    allow_headers=[\"*\"],\n",
    ")"
   ]
  },
  {
   "cell_type": "markdown",
   "metadata": {},
   "source": [
    "データベース接続関数"
   ]
  },
  {
   "cell_type": "code",
   "execution_count": 9,
   "metadata": {},
   "outputs": [],
   "source": [
    "# データベース接続設定\n",
    "def get_db_connection():\n",
    "    return pymysql.connect(\n",
    "        host=\"localhost\",\n",
    "        user=\"root\",\n",
    "        password=\"mfM236#:\",  # MySQLのrootパスワードを入力\n",
    "        database=\"pos_app\",\n",
    "        charset=\"utf8mb4\",\n",
    "        cursorclass=pymysql.cursors.DictCursor\n",
    "    )"
   ]
  },
  {
   "cell_type": "markdown",
   "metadata": {},
   "source": [
    "モデル定義"
   ]
  },
  {
   "cell_type": "code",
   "execution_count": 12,
   "metadata": {},
   "outputs": [],
   "source": [
    "# モデル定義\n",
    "class Product(BaseModel):\n",
    "    prd_id: Optional[int] = None\n",
    "    code: str\n",
    "    name: str\n",
    "    price: int\n",
    "\n",
    "class PurchaseItem(BaseModel):\n",
    "    prd_id: int\n",
    "    code: str\n",
    "    name: str\n",
    "    price: int\n",
    "    quantity: int = 1\n",
    "\n",
    "class PurchaseRequest(BaseModel):\n",
    "    emp_cd: str = \"9999999999\"\n",
    "    store_cd: str = \"30\"\n",
    "    pos_id: str = \"90\"\n",
    "    items: List[PurchaseItem]\n",
    "\n",
    "class PurchaseResponse(BaseModel):\n",
    "    success: bool\n",
    "    total_amount: int"
   ]
  },
  {
   "cell_type": "markdown",
   "metadata": {},
   "source": [
    "APIエンドポイント - ルート"
   ]
  },
  {
   "cell_type": "code",
   "execution_count": 13,
   "metadata": {},
   "outputs": [],
   "source": [
    "@app.get(\"/\")\n",
    "def read_root():\n",
    "    return {\"message\": \"Welcome to POS API\"}"
   ]
  },
  {
   "cell_type": "markdown",
   "metadata": {},
   "source": [
    "APIエンドポイント - 商品取得"
   ]
  },
  {
   "cell_type": "code",
   "execution_count": 15,
   "metadata": {},
   "outputs": [],
   "source": [
    "@app.get(\"/api/product/{code}\")\n",
    "def get_product(code: str):\n",
    "    conn = get_db_connection()\n",
    "    try:\n",
    "        with conn.cursor() as cursor:\n",
    "            cursor.execute(\"SELECT PRD_ID, CODE, NAME, PRICE FROM products WHERE CODE = %s\", (code,))\n",
    "            product = cursor.fetchone()\n",
    "            if not product:\n",
    "                return {\"product\": None}\n",
    "            return {\n",
    "                \"product\": {\n",
    "                    \"prd_id\": product[\"PRD_ID\"],\n",
    "                    \"code\": product[\"CODE\"].strip(),  # CHAR型のため、空白を削除\n",
    "                    \"name\": product[\"NAME\"],\n",
    "                    \"price\": product[\"PRICE\"]\n",
    "                }\n",
    "            }\n",
    "    finally:\n",
    "        conn.close()"
   ]
  },
  {
   "cell_type": "markdown",
   "metadata": {},
   "source": [
    "APIエンドポイント - 購入処理"
   ]
  },
  {
   "cell_type": "code",
   "execution_count": 17,
   "metadata": {},
   "outputs": [],
   "source": [
    "@app.post(\"/api/purchase\")\n",
    "def purchase(request: PurchaseRequest):\n",
    "    conn = get_db_connection()\n",
    "    try:\n",
    "        with conn.cursor() as cursor:\n",
    "            # 1. 取引テーブルに登録\n",
    "            cursor.execute(\n",
    "                \"INSERT INTO transactions (DATETIME, EMP_CD, STORE_CD, POS_NO, TOTAL_AMT) VALUES (%s, %s, %s, %s, %s)\",\n",
    "                (datetime.now(), request.emp_cd, request.store_cd, request.pos_id, 0)\n",
    "            )\n",
    "            trd_id = cursor.lastrowid\n",
    "            conn.commit()\n",
    "            \n",
    "            # 2. 取引明細テーブルに登録\n",
    "            total_amount = 0\n",
    "            for idx, item in enumerate(request.items, 1):\n",
    "                cursor.execute(\n",
    "                    \"INSERT INTO transaction_details (TRD_ID, DTL_ID, PRD_ID, PRD_CODE, PRD_NAME, PRD_PRICE) VALUES (%s, %s, %s, %s, %s, %s)\",\n",
    "                    (trd_id, idx, item.prd_id, item.code, item.name, item.price)\n",
    "                )\n",
    "                total_amount += item.price * item.quantity\n",
    "            \n",
    "            # 3. 取引テーブルの合計金額を更新\n",
    "            cursor.execute(\n",
    "                \"UPDATE transactions SET TOTAL_AMT = %s WHERE TRD_ID = %s\",\n",
    "                (total_amount, trd_id)\n",
    "            )\n",
    "            conn.commit()\n",
    "            \n",
    "            return {\"success\": True, \"total_amount\": total_amount}\n",
    "    except Exception as e:\n",
    "        conn.rollback()\n",
    "        raise HTTPException(status_code=500, detail=str(e))\n",
    "    finally:\n",
    "        conn.close()"
   ]
  }
 ],
 "metadata": {
  "kernelspec": {
   "display_name": "Python 3",
   "language": "python",
   "name": "python3"
  },
  "language_info": {
   "codemirror_mode": {
    "name": "ipython",
    "version": 3
   },
   "file_extension": ".py",
   "mimetype": "text/x-python",
   "name": "python",
   "nbconvert_exporter": "python",
   "pygments_lexer": "ipython3",
   "version": "3.12.3"
  }
 },
 "nbformat": 4,
 "nbformat_minor": 2
}
